{
 "cells": [
  {
   "metadata": {},
   "cell_type": "code",
   "outputs": [],
   "execution_count": null,
   "source": "",
   "id": "292e4f9e3b203479"
  },
  {
   "metadata": {},
   "cell_type": "markdown",
   "source": [
    "ANÁLISIS EXPLORATORIO COMPLETO - AGRICULTURA URBANA VERTICAL CON FOTOLUMINISCENCIA\n",
    "==================================================================================\n",
    "\n",
    "Este script realiza un análisis exploratorio exhaustivo de un sistema de agricultura\n",
    "urbana vertical en ambiente controlado con tecnología de fotoluminiscencia.\n",
    "Incluye todas las visualizaciones, matrices de correlación y análisis estadísticos.\n",
    "\n",
    "Dataset: 50,000 registros de sensores en ambiente controlado cerrado\n",
    "Variables: 26 parámetros ambientales, lumínicos y de control\n",
    "Tecnología: Sistema fotoluminiscente para optimización del crecimiento"
   ],
   "id": "e6fa6dbf7037457e"
  },
  {
   "metadata": {},
   "cell_type": "code",
   "outputs": [],
   "execution_count": null,
   "source": [
    "import pandas as pd\n",
    "import numpy as np\n",
    "import matplotlib.pyplot as plt\n",
    "import seaborn as sns\n",
    "from scipy import stats\n",
    "from scipy.stats import pearsonr, spearmanr, chi2_contingency\n",
    "import warnings\n",
    "warnings.filterwarnings('ignore')\n",
    "\n",
    "# Configuración de estilo para visualizaciones\n",
    "plt.style.use('default')\n",
    "sns.set_palette(\"husl\")\n",
    "plt.rcParams['figure.figsize'] = (15, 10)\n",
    "plt.rcParams['font.size'] = 12\n",
    "plt.rcParams['axes.grid'] = True\n",
    "plt.rcParams['grid.alpha'] = 0.3"
   ],
   "id": "7711d6322937d3e9"
  }
 ],
 "metadata": {
  "kernelspec": {
   "display_name": "Python 3",
   "language": "python",
   "name": "python3"
  },
  "language_info": {
   "codemirror_mode": {
    "name": "ipython",
    "version": 2
   },
   "file_extension": ".py",
   "mimetype": "text/x-python",
   "name": "python",
   "nbconvert_exporter": "python",
   "pygments_lexer": "ipython2",
   "version": "2.7.6"
  }
 },
 "nbformat": 4,
 "nbformat_minor": 5
}
