{
 "cells": [
  {
   "cell_type": "code",
   "id": "initial_id",
   "metadata": {
    "collapsed": true,
    "ExecuteTime": {
     "end_time": "2025-05-26T01:40:28.949837Z",
     "start_time": "2025-05-26T01:40:07.293904Z"
    }
   },
   "source": [
    "\n",
    "# ============================================================================\n",
    "# 03_TRAIN_MODELS.IPYNB\n",
    "# Entrenamiento y Evaluación de Modelos ML para Agricultura Vertical\n",
    "# ============================================================================\n",
    "\n",
    "import pandas as pd\n",
    "import numpy as np\n",
    "import matplotlib.pyplot as plt\n",
    "import seaborn as sns\n",
    "from sklearn.ensemble import RandomForestRegressor, GradientBoostingRegressor\n",
    "from sklearn.svm import SVR\n",
    "from sklearn.linear_model import LinearRegression, Ridge, Lasso, ElasticNet\n",
    "from sklearn.neural_network import MLPRegressor\n",
    "from sklearn.preprocessing import StandardScaler\n",
    "from sklearn.metrics import mean_absolute_error, mean_squared_error, r2_score, mean_absolute_percentage_error\n",
    "from sklearn.model_selection import cross_val_score, GridSearchCV\n",
    "import xgboost as xgb\n",
    "import lightgbm as lgb\n",
    "import joblib\n",
    "import json\n",
    "import time\n",
    "from datetime import datetime\n",
    "import warnings\n",
    "warnings.filterwarnings('ignore')\n",
    "\n",
    "# Configuración de visualización\n",
    "plt.style.use('default')\n",
    "sns.set_palette(\"husl\")\n",
    "\n",
    "print(\"=\"*60)\n",
    "print(\"ENTRENAMIENTO DE MODELOS - AGRICULTURA VERTICAL\")\n",
    "print(\"=\"*60)\n"
   ],
   "outputs": [
    {
     "name": "stdout",
     "output_type": "stream",
     "text": [
      "============================================================\n",
      "ENTRENAMIENTO DE MODELOS - AGRICULTURA VERTICAL\n",
      "============================================================\n"
     ]
    }
   ],
   "execution_count": 1
  },
  {
   "metadata": {},
   "cell_type": "markdown",
   "source": "1. CARGA DE DATOS FEATURES ENGINEERED",
   "id": "f6278cd435cbd5ea"
  },
  {
   "metadata": {
    "ExecuteTime": {
     "end_time": "2025-05-26T01:43:49.175755Z",
     "start_time": "2025-05-26T01:43:48.862981Z"
    }
   },
   "cell_type": "code",
   "source": [
    "# ============================================================================\n",
    "# 1. CARGA DE DATOS FEATURES ENGINEERED\n",
    "# ============================================================================\n",
    "\n",
    "print(\"\\n1. CARGANDO DATOS CON FEATURES ENGINEERED...\")\n",
    "\n",
    "# Cargar datos con features finales\n",
    "train_data = pd.read_csv('../data/processed/train_featured.csv')\n",
    "val_data = pd.read_csv('../data/processed/validation_featured.csv')\n",
    "test_data = pd.read_csv('../data/processed/test_featured.csv')\n",
    "\n",
    "# Cargar metadata\n",
    "with open('../data/processed/feature_engineering_metadata.json', 'r') as f:\n",
    "    feature_metadata = json.load(f)\n",
    "\n",
    "selected_features = feature_metadata['selected_features']\n",
    "\n",
    "print(f\"Train shape: {train_data.shape}\")\n",
    "print(f\"Validation shape: {val_data.shape}\")\n",
    "print(f\"Test shape: {test_data.shape}\")\n",
    "print(f\"Features seleccionadas: {len(selected_features)}\")\n",
    "\n",
    "# Separar features y targets\n",
    "X_train = train_data[selected_features]\n",
    "X_val = val_data[selected_features]\n",
    "X_test = test_data[selected_features]\n",
    "\n",
    "y_train_eficiencia = train_data['eficiencia_fotosintetica_pct']\n",
    "y_val_eficiencia = val_data['eficiencia_fotosintetica_pct']\n",
    "y_test_eficiencia = test_data['eficiencia_fotosintetica_pct']\n",
    "\n",
    "# Para fotoluminiscencia (incluye eficiencia como feature)\n",
    "X_train_foto = train_data[selected_features + ['eficiencia_fotosintetica_pct']]\n",
    "X_val_foto = val_data[selected_features + ['eficiencia_fotosintetica_pct']]\n",
    "X_test_foto = test_data[selected_features + ['eficiencia_fotosintetica_pct']]\n",
    "\n",
    "y_train_foto = train_data['fotoluminiscencia_intensidad']\n",
    "y_val_foto = val_data['fotoluminiscencia_intensidad']\n",
    "y_test_foto = test_data['fotoluminiscencia_intensidad']\n",
    "\n",
    "print(f\"\\nDatos separados correctamente:\")\n",
    "print(f\"X_train eficiencia: {X_train.shape}\")\n",
    "print(f\"X_train fotoluminiscencia: {X_train_foto.shape}\")\n"
   ],
   "id": "16d0367db038e97c",
   "outputs": [
    {
     "name": "stdout",
     "output_type": "stream",
     "text": [
      "\n",
      "1. CARGANDO DATOS CON FEATURES ENGINEERED...\n",
      "Train shape: (30000, 35)\n",
      "Validation shape: (10000, 35)\n",
      "Test shape: (10000, 35)\n",
      "Features seleccionadas: 33\n",
      "\n",
      "Datos separados correctamente:\n",
      "X_train eficiencia: (30000, 33)\n",
      "X_train fotoluminiscencia: (30000, 34)\n"
     ]
    }
   ],
   "execution_count": 2
  },
  {
   "metadata": {},
   "cell_type": "code",
   "outputs": [],
   "execution_count": null,
   "source": "",
   "id": "ebfbb386dcb119c0"
  }
 ],
 "metadata": {
  "kernelspec": {
   "display_name": "Python 3",
   "language": "python",
   "name": "python3"
  },
  "language_info": {
   "codemirror_mode": {
    "name": "ipython",
    "version": 2
   },
   "file_extension": ".py",
   "mimetype": "text/x-python",
   "name": "python",
   "nbconvert_exporter": "python",
   "pygments_lexer": "ipython2",
   "version": "2.7.6"
  }
 },
 "nbformat": 4,
 "nbformat_minor": 5
}
