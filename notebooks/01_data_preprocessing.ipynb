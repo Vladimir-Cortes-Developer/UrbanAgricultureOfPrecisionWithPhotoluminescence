{
 "cells": [
  {
   "cell_type": "code",
   "id": "initial_id",
   "metadata": {
    "collapsed": true,
    "ExecuteTime": {
     "end_time": "2025-05-26T00:21:57.762815Z",
     "start_time": "2025-05-26T00:21:57.758042Z"
    }
   },
   "source": [
    "import pandas as pd\n",
    "import numpy as np\n",
    "import matplotlib.pyplot as plt\n",
    "import seaborn as sns\n",
    "from sklearn.preprocessing import StandardScaler, RobustScaler, MinMaxScaler\n",
    "from sklearn.model_selection import train_test_split\n",
    "from scipy import stats\n",
    "import warnings\n",
    "warnings.filterwarnings('ignore')"
   ],
   "outputs": [],
   "execution_count": 26
  },
  {
   "metadata": {
    "ExecuteTime": {
     "end_time": "2025-05-26T00:21:57.801473Z",
     "start_time": "2025-05-26T00:21:57.795188Z"
    }
   },
   "cell_type": "code",
   "source": [
    "# Configuración de visualización\n",
    "plt.style.use('default')\n",
    "sns.set_palette(\"husl\")\n",
    "\n",
    "print(\"=\"*60)\n",
    "print(\"PREPROCESAMIENTO DE DATOS - AGRICULTURA VERTICAL\")\n",
    "print(\"=\"*60)"
   ],
   "id": "68dd2b8e6b5e982c",
   "outputs": [
    {
     "name": "stdout",
     "output_type": "stream",
     "text": [
      "============================================================\n",
      "PREPROCESAMIENTO DE DATOS - AGRICULTURA VERTICAL\n",
      "============================================================\n"
     ]
    }
   ],
   "execution_count": 27
  },
  {
   "metadata": {},
   "cell_type": "markdown",
   "source": "1. CARGA DE DATOS",
   "id": "d9653b4d6a7d3ce5"
  },
  {
   "metadata": {
    "ExecuteTime": {
     "end_time": "2025-05-26T00:21:58.036610Z",
     "start_time": "2025-05-26T00:21:57.845602Z"
    }
   },
   "cell_type": "code",
   "source": [
    "print(\"\\n1. CARGANDO DATOS...\")\n",
    "df = pd.read_csv('../data/raw/agricultura_vertical_dataset.csv')\n",
    "\n",
    "print(f\"Shape original: {df.shape}\")\n",
    "print(f\"Columnas: {list(df.columns)}\")\n",
    "\n",
    "# Copia para comparaciones\n",
    "df_original = df.copy()"
   ],
   "id": "67cbec70f633ec58",
   "outputs": [
    {
     "name": "stdout",
     "output_type": "stream",
     "text": [
      "\n",
      "1. CARGANDO DATOS...\n",
      "Shape original: (50000, 26)\n",
      "Columnas: ['timestamp', 'hora_dia', 'dia_semana', 'estacion', 'temperatura_c', 'humedad_rel_pct', 'co2_ppm', 'vpd_kpa', 'pm2_5_ugm3', 'pm10_ugm3', 'vocs_mgm3', 'no2_ugm3', 'o3_ugm3', 'aqi_indice', 'par_umol_m2_s', 'ppfd_umol_m2_s', 'fotoluminiscencia_intensidad', 'espectro_pico_nm', 'eficiencia_fotosintetica_pct', 'ajuste_temp_c', 'ajuste_humedad_pct', 'ajuste_co2_ppm', 'ajuste_par_umol', 'purificacion_requerida_pct', 'condiciones_categoria', 'calidad_aire_categoria']\n"
     ]
    }
   ],
   "execution_count": 28
  },
  {
   "metadata": {},
   "cell_type": "markdown",
   "source": "2. ANÁLISIS DE CALIDAD DE DATOS",
   "id": "9a55d76543e7ee02"
  },
  {
   "metadata": {
    "ExecuteTime": {
     "end_time": "2025-05-26T00:21:58.333533Z",
     "start_time": "2025-05-26T00:21:58.068091Z"
    }
   },
   "cell_type": "code",
   "source": [
    "print(\"\\n2. ANALISIS DE CALIDAD DE DATOS...\")\n",
    "\n",
    "def analyze_data_quality(df):\n",
    "    \"\"\"Análisis completo de calidad de datos\"\"\"\n",
    "    quality_report = pd.DataFrame({\n",
    "        'Column': df.columns,\n",
    "        'Dtype': df.dtypes,\n",
    "        'Non_Null_Count': df.count(),\n",
    "        'Null_Count': df.isnull().sum(),\n",
    "        'Null_Percentage': (df.isnull().sum() / len(df)) * 100,\n",
    "        'Unique_Count': df.nunique(),\n",
    "        'Duplicate_Rows': len(df) - len(df.drop_duplicates())\n",
    "    })\n",
    "\n",
    "    return quality_report\n",
    "\n",
    "quality_report = analyze_data_quality(df)\n",
    "print(\"\\nREPORTE DE CALIDAD:\")\n",
    "print(quality_report)\n",
    "\n",
    "# Verificar duplicados\n",
    "duplicates = df.duplicated().sum()\n",
    "print(f\"\\nFilas duplicadas: {duplicates}\")\n",
    "\n",
    "if duplicates > 0:\n",
    "    print(\"Eliminando duplicados...\")\n",
    "    df = df.drop_duplicates().reset_index(drop=True)\n",
    "    print(f\"Shape después de eliminar duplicados: {df.shape}\")\n"
   ],
   "id": "83d5241acb8e13b1",
   "outputs": [
    {
     "name": "stdout",
     "output_type": "stream",
     "text": [
      "\n",
      "2. ANALISIS DE CALIDAD DE DATOS...\n",
      "\n",
      "REPORTE DE CALIDAD:\n",
      "                                                    Column    Dtype  \\\n",
      "timestamp                                        timestamp   object   \n",
      "hora_dia                                          hora_dia    int64   \n",
      "dia_semana                                      dia_semana    int64   \n",
      "estacion                                          estacion   object   \n",
      "temperatura_c                                temperatura_c  float64   \n",
      "humedad_rel_pct                            humedad_rel_pct  float64   \n",
      "co2_ppm                                            co2_ppm  float64   \n",
      "vpd_kpa                                            vpd_kpa  float64   \n",
      "pm2_5_ugm3                                      pm2_5_ugm3  float64   \n",
      "pm10_ugm3                                        pm10_ugm3  float64   \n",
      "vocs_mgm3                                        vocs_mgm3  float64   \n",
      "no2_ugm3                                          no2_ugm3  float64   \n",
      "o3_ugm3                                            o3_ugm3  float64   \n",
      "aqi_indice                                      aqi_indice  float64   \n",
      "par_umol_m2_s                                par_umol_m2_s  float64   \n",
      "ppfd_umol_m2_s                              ppfd_umol_m2_s  float64   \n",
      "fotoluminiscencia_intensidad  fotoluminiscencia_intensidad  float64   \n",
      "espectro_pico_nm                          espectro_pico_nm    int64   \n",
      "eficiencia_fotosintetica_pct  eficiencia_fotosintetica_pct  float64   \n",
      "ajuste_temp_c                                ajuste_temp_c  float64   \n",
      "ajuste_humedad_pct                      ajuste_humedad_pct  float64   \n",
      "ajuste_co2_ppm                              ajuste_co2_ppm  float64   \n",
      "ajuste_par_umol                            ajuste_par_umol  float64   \n",
      "purificacion_requerida_pct      purificacion_requerida_pct  float64   \n",
      "condiciones_categoria                condiciones_categoria   object   \n",
      "calidad_aire_categoria              calidad_aire_categoria   object   \n",
      "\n",
      "                              Non_Null_Count  Null_Count  Null_Percentage  \\\n",
      "timestamp                              50000           0            0.000   \n",
      "hora_dia                               50000           0            0.000   \n",
      "dia_semana                             50000           0            0.000   \n",
      "estacion                               50000           0            0.000   \n",
      "temperatura_c                          50000           0            0.000   \n",
      "humedad_rel_pct                        50000           0            0.000   \n",
      "co2_ppm                                50000           0            0.000   \n",
      "vpd_kpa                                50000           0            0.000   \n",
      "pm2_5_ugm3                             50000           0            0.000   \n",
      "pm10_ugm3                              50000           0            0.000   \n",
      "vocs_mgm3                              50000           0            0.000   \n",
      "no2_ugm3                               50000           0            0.000   \n",
      "o3_ugm3                                50000           0            0.000   \n",
      "aqi_indice                             50000           0            0.000   \n",
      "par_umol_m2_s                          50000           0            0.000   \n",
      "ppfd_umol_m2_s                         50000           0            0.000   \n",
      "fotoluminiscencia_intensidad           50000           0            0.000   \n",
      "espectro_pico_nm                       50000           0            0.000   \n",
      "eficiencia_fotosintetica_pct           50000           0            0.000   \n",
      "ajuste_temp_c                          50000           0            0.000   \n",
      "ajuste_humedad_pct                     50000           0            0.000   \n",
      "ajuste_co2_ppm                         50000           0            0.000   \n",
      "ajuste_par_umol                        50000           0            0.000   \n",
      "purificacion_requerida_pct             50000           0            0.000   \n",
      "condiciones_categoria                  50000           0            0.000   \n",
      "calidad_aire_categoria                 49956          44            0.088   \n",
      "\n",
      "                              Unique_Count  Duplicate_Rows  \n",
      "timestamp                            50000               0  \n",
      "hora_dia                                24               0  \n",
      "dia_semana                               7               0  \n",
      "estacion                                 4               0  \n",
      "temperatura_c                        48682               0  \n",
      "humedad_rel_pct                      49269               0  \n",
      "co2_ppm                              49395               0  \n",
      "vpd_kpa                              49990               0  \n",
      "pm2_5_ugm3                           50000               0  \n",
      "pm10_ugm3                            50000               0  \n",
      "vocs_mgm3                            50000               0  \n",
      "no2_ugm3                             50000               0  \n",
      "o3_ugm3                              49706               0  \n",
      "aqi_indice                           49957               0  \n",
      "par_umol_m2_s                        49008               0  \n",
      "ppfd_umol_m2_s                       50000               0  \n",
      "fotoluminiscencia_intensidad         49926               0  \n",
      "espectro_pico_nm                         5               0  \n",
      "eficiencia_fotosintetica_pct         49875               0  \n",
      "ajuste_temp_c                        50000               0  \n",
      "ajuste_humedad_pct                   50000               0  \n",
      "ajuste_co2_ppm                       50000               0  \n",
      "ajuste_par_umol                      50000               0  \n",
      "purificacion_requerida_pct           49928               0  \n",
      "condiciones_categoria                    3               0  \n",
      "calidad_aire_categoria                   4               0  \n",
      "\n",
      "Filas duplicadas: 0\n"
     ]
    }
   ],
   "execution_count": 29
  },
  {
   "metadata": {},
   "cell_type": "markdown",
   "source": "3. MANEJO DE VALORES FALTANTES",
   "id": "ed39ae8a53afd629"
  },
  {
   "metadata": {
    "ExecuteTime": {
     "end_time": "2025-05-26T00:21:58.395354Z",
     "start_time": "2025-05-26T00:21:58.357188Z"
    }
   },
   "cell_type": "code",
   "source": [
    "# ============================================================================\n",
    "# 3. MANEJO DE VALORES FALTANTES\n",
    "# ============================================================================\n",
    "\n",
    "print(\"\\n3. MANEJO DE VALORES FALTANTES...\")\n",
    "\n",
    "# Identificar patrones de valores faltantes\n",
    "missing_data = df.isnull().sum()\n",
    "missing_percentage = (missing_data / len(df)) * 100\n",
    "\n",
    "missing_df = pd.DataFrame({\n",
    "    'Missing_Count': missing_data,\n",
    "    'Missing_Percentage': missing_percentage\n",
    "}).sort_values('Missing_Percentage', ascending=False)\n",
    "\n",
    "print(\"\\nVALORES FALTANTES POR COLUMNA:\")\n",
    "print(missing_df[missing_df['Missing_Count'] > 0])\n",
    "\n",
    "# Estrategias de imputación\n",
    "def handle_missing_values(df):\n",
    "    \"\"\"Manejo inteligente de valores faltantes\"\"\"\n",
    "    df_processed = df.copy()\n",
    "\n",
    "    # Para variables numéricas - usar mediana (más robusta a outliers)\n",
    "    numeric_cols = df_processed.select_dtypes(include=[np.number]).columns\n",
    "\n",
    "    for col in numeric_cols:\n",
    "        if df_processed[col].isnull().sum() > 0:\n",
    "            median_value = df_processed[col].median()\n",
    "            df_processed[col].fillna(median_value, inplace=True)\n",
    "            print(f\"  - {col}: {df[col].isnull().sum()} valores imputados con mediana {median_value:.2f}\")\n",
    "\n",
    "    # Para variables categóricas - usar moda\n",
    "    categorical_cols = df_processed.select_dtypes(include=['object']).columns\n",
    "\n",
    "    for col in categorical_cols:\n",
    "        if df_processed[col].isnull().sum() > 0:\n",
    "            mode_value = df_processed[col].mode()[0]\n",
    "            df_processed[col].fillna(mode_value, inplace=True)\n",
    "            print(f\"  - {col}: {df[col].isnull().sum()} valores imputados con moda '{mode_value}'\")\n",
    "\n",
    "    return df_processed\n",
    "\n",
    "# Aplicar manejo de valores faltantes\n",
    "if missing_data.sum() > 0:\n",
    "    df = handle_missing_values(df)\n",
    "else:\n",
    "    print(\"No se encontraron valores faltantes.\")\n"
   ],
   "id": "e0c38eb26b843593",
   "outputs": [
    {
     "name": "stdout",
     "output_type": "stream",
     "text": [
      "\n",
      "3. MANEJO DE VALORES FALTANTES...\n",
      "\n",
      "VALORES FALTANTES POR COLUMNA:\n",
      "                        Missing_Count  Missing_Percentage\n",
      "calidad_aire_categoria             44               0.088\n",
      "  - calidad_aire_categoria: 44 valores imputados con moda 'Regular'\n"
     ]
    }
   ],
   "execution_count": 30
  },
  {
   "metadata": {},
   "cell_type": "markdown",
   "source": "4. DETECCIÓN Y MANEJO DE OUTLIERS",
   "id": "673313f9adbb9fd0"
  },
  {
   "metadata": {
    "ExecuteTime": {
     "end_time": "2025-05-26T00:21:59.025646Z",
     "start_time": "2025-05-26T00:21:58.419838Z"
    }
   },
   "cell_type": "code",
   "source": [
    "# ============================================================================\n",
    "# 4. DETECCIÓN Y MANEJO DE OUTLIERS\n",
    "# ============================================================================\n",
    "\n",
    "print(\"\\n4. DETECCION Y MANEJO DE OUTLIERS...\")\n",
    "\n",
    "def detect_outliers_iqr(df, columns):\n",
    "    \"\"\"Detectar outliers usando método IQR\"\"\"\n",
    "    outliers_dict = {}\n",
    "\n",
    "    for col in columns:\n",
    "        Q1 = df[col].quantile(0.25)\n",
    "        Q3 = df[col].quantile(0.75)\n",
    "        IQR = Q3 - Q1\n",
    "\n",
    "        lower_bound = Q1 - 1.5 * IQR\n",
    "        upper_bound = Q3 + 1.5 * IQR\n",
    "\n",
    "        outliers = df[(df[col] < lower_bound) | (df[col] > upper_bound)]\n",
    "        outliers_dict[col] = {\n",
    "            'count': len(outliers),\n",
    "            'percentage': len(outliers) / len(df) * 100,\n",
    "            'lower_bound': lower_bound,\n",
    "            'upper_bound': upper_bound,\n",
    "            'indices': outliers.index.tolist()\n",
    "        }\n",
    "\n",
    "    return outliers_dict\n",
    "\n",
    "# Variables numéricas principales\n",
    "numeric_vars = ['temperatura_c', 'humedad_rel_pct', 'co2_ppm', 'par_umol_m2_s',\n",
    "                'pm2_5_ugm3', 'vocs_mgm3', 'aqi_indice', 'vpd_kpa',\n",
    "                'eficiencia_fotosintetica_pct', 'fotoluminiscencia_intensidad']\n",
    "\n",
    "# Detectar outliers\n",
    "outliers_info = detect_outliers_iqr(df, numeric_vars)\n",
    "\n",
    "print(\"\\nOUTLIERS DETECTADOS:\")\n",
    "for var, info in outliers_info.items():\n",
    "    if info['count'] > 0:\n",
    "        print(f\"  - {var}: {info['count']} outliers ({info['percentage']:.1f}%)\")\n",
    "        print(f\"    Rango normal: [{info['lower_bound']:.2f}, {info['upper_bound']:.2f}]\")\n",
    "\n",
    "# Visualizar outliers principales\n",
    "def plot_outliers(df, columns, figsize=(15, 10)):\n",
    "    \"\"\"Visualizar outliers con boxplots\"\"\"\n",
    "    n_cols = 3\n",
    "    n_rows = (len(columns) + n_cols - 1) // n_cols\n",
    "\n",
    "    fig, axes = plt.subplots(n_rows, n_cols, figsize=figsize)\n",
    "    if n_rows == 1:\n",
    "        axes = [axes]\n",
    "    axes = axes.flatten()\n",
    "\n",
    "    for i, col in enumerate(columns):\n",
    "        if i < len(axes):\n",
    "            axes[i].boxplot(df[col].dropna())\n",
    "            axes[i].set_title(f'Outliers en {col}')\n",
    "            axes[i].set_ylabel(col)\n",
    "\n",
    "    # Ocultar ejes vacíos\n",
    "    for i in range(len(columns), len(axes)):\n",
    "        axes[i].set_visible(False)\n",
    "\n",
    "    plt.tight_layout()\n",
    "    plt.show()\n",
    "\n",
    "# Mostrar outliers\n",
    "plot_outliers(df, numeric_vars[:6])  # Primeras 6 variables\n",
    "\n",
    "# Estrategia de manejo de outliers para agricultura vertical\n",
    "def handle_agriculture_outliers(df):\n",
    "    \"\"\"Manejo específico de outliers para agricultura vertical\"\"\"\n",
    "    df_processed = df.copy()\n",
    "\n",
    "    # Rangos realistas para agricultura vertical\n",
    "    realistic_ranges = {\n",
    "        'temperatura_c': (10, 40),      # Rango físicamente posible\n",
    "        'humedad_rel_pct': (20, 95),    # Rango de humedad realista\n",
    "        'co2_ppm': (200, 2000),         # Rango de CO2 realista\n",
    "        'par_umol_m2_s': (50, 1000),    # Rango de PAR realista\n",
    "        'pm2_5_ugm3': (0, 100),         # Rango contaminación realista\n",
    "        'vocs_mgm3': (0, 5),            # Rango VOCs realista\n",
    "        'aqi_indice': (0, 100),         # Por definición 0-100\n",
    "        'vpd_kpa': (0.1, 5),            # Rango VPD realista\n",
    "        'eficiencia_fotosintetica_pct': (0, 100),  # Por definición 0-100\n",
    "        'fotoluminiscencia_intensidad': (0, 100)   # Escala normalizada\n",
    "    }\n",
    "\n",
    "    outliers_removed = 0\n",
    "\n",
    "    for var, (min_val, max_val) in realistic_ranges.items():\n",
    "        if var in df_processed.columns:\n",
    "            # Contar outliers extremos\n",
    "            extreme_outliers = df_processed[\n",
    "                (df_processed[var] < min_val) | (df_processed[var] > max_val)\n",
    "            ]\n",
    "\n",
    "            if len(extreme_outliers) > 0:\n",
    "                print(f\"  - {var}: Eliminando {len(extreme_outliers)} outliers extremos\")\n",
    "                outliers_removed += len(extreme_outliers)\n",
    "\n",
    "                # Eliminar outliers extremos\n",
    "                df_processed = df_processed[\n",
    "                    (df_processed[var] >= min_val) & (df_processed[var] <= max_val)\n",
    "                ]\n",
    "\n",
    "    print(f\"\\nTotal outliers extremos eliminados: {outliers_removed}\")\n",
    "    print(f\"Shape después de limpieza: {df_processed.shape}\")\n",
    "\n",
    "    return df_processed.reset_index(drop=True)\n",
    "\n",
    "# Aplicar manejo de outliers\n",
    "df = handle_agriculture_outliers(df)\n"
   ],
   "id": "5194d7b26831f287",
   "outputs": [
    {
     "name": "stdout",
     "output_type": "stream",
     "text": [
      "\n",
      "4. DETECCION Y MANEJO DE OUTLIERS...\n",
      "\n",
      "OUTLIERS DETECTADOS:\n",
      "  - humedad_rel_pct: 162 outliers (0.3%)\n",
      "    Rango normal: [41.10, 94.97]\n",
      "  - co2_ppm: 152 outliers (0.3%)\n",
      "    Rango normal: [260.76, 1340.53]\n",
      "  - par_umol_m2_s: 172 outliers (0.3%)\n",
      "    Rango normal: [72.79, 725.92]\n",
      "  - pm2_5_ugm3: 166 outliers (0.3%)\n",
      "    Rango normal: [-4.17, 28.15]\n",
      "  - vocs_mgm3: 204 outliers (0.4%)\n",
      "    Rango normal: [-0.22, 0.83]\n",
      "  - aqi_indice: 166 outliers (0.3%)\n",
      "    Rango normal: [6.07, 86.78]\n",
      "  - vpd_kpa: 655 outliers (1.3%)\n",
      "    Rango normal: [0.02, 1.67]\n",
      "  - eficiencia_fotosintetica_pct: 329 outliers (0.7%)\n",
      "    Rango normal: [20.82, 71.96]\n",
      "  - fotoluminiscencia_intensidad: 260 outliers (0.5%)\n",
      "    Rango normal: [10.12, 71.48]\n"
     ]
    },
    {
     "data": {
      "text/plain": [
       "<Figure size 1500x1000 with 6 Axes>"
      ],
      "image/png": "[encoded data removed]"
     },
     "metadata": {},
     "output_type": "display_data"
    },
    {
     "name": "stdout",
     "output_type": "stream",
     "text": [
      "\n",
      "Total outliers extremos eliminados: 0\n",
      "Shape después de limpieza: (50000, 26)\n"
     ]
    }
   ],
   "execution_count": 31
  },
  {
   "metadata": {},
   "cell_type": "markdown",
   "source": "5. VALIDACIÓN DE RANGOS ESPECÍFICOS",
   "id": "1a86bf5c84f8c620"
  },
  {
   "metadata": {
    "ExecuteTime": {
     "end_time": "2025-05-26T00:21:59.068239Z",
     "start_time": "2025-05-26T00:21:59.054594Z"
    }
   },
   "cell_type": "code",
   "source": [
    "# ============================================================================\n",
    "# 5. VALIDACIÓN DE RANGOS ESPECÍFICOS\n",
    "# ============================================================================\n",
    "\n",
    "print(\"\\n5. VALIDACION DE RANGOS PARA AGRICULTURA VERTICAL...\")\n",
    "\n",
    "def validate_agriculture_ranges(df):\n",
    "    \"\"\"Validar que los datos estén en rangos apropiados para agricultura\"\"\"\n",
    "\n",
    "    # Rangos óptimos conocidos para agricultura vertical\n",
    "    optimal_ranges = {\n",
    "        'temperatura_c': (18, 28, 'Temperatura fuera de rango óptimo'),\n",
    "        'humedad_rel_pct': (40, 85, 'Humedad fuera de rango óptimo'),\n",
    "        'co2_ppm': (350, 1500, 'CO2 fuera de rango típico'),\n",
    "        'par_umol_m2_s': (150, 800, 'PAR fuera de rango típico'),\n",
    "        'aqi_indice': (0, 100, 'AQI debe estar entre 0-100')\n",
    "    }\n",
    "\n",
    "    validation_report = {}\n",
    "\n",
    "    for var, (min_opt, max_opt, message) in optimal_ranges.items():\n",
    "        if var in df.columns:\n",
    "            out_of_range = df[(df[var] < min_opt) | (df[var] > max_opt)]\n",
    "            percentage = len(out_of_range) / len(df) * 100\n",
    "\n",
    "            validation_report[var] = {\n",
    "                'out_of_range_count': len(out_of_range),\n",
    "                'out_of_range_percentage': percentage,\n",
    "                'min_value': df[var].min(),\n",
    "                'max_value': df[var].max(),\n",
    "                'optimal_range': f\"{min_opt}-{max_opt}\"\n",
    "            }\n",
    "\n",
    "            if percentage > 0:\n",
    "                print(f\"  - {var}: {percentage:.1f}% fuera de rango óptimo ({min_opt}-{max_opt})\")\n",
    "\n",
    "    return validation_report\n",
    "\n",
    "validation_report = validate_agriculture_ranges(df)"
   ],
   "id": "a420d4ae812c24bc",
   "outputs": [
    {
     "name": "stdout",
     "output_type": "stream",
     "text": [
      "\n",
      "5. VALIDACION DE RANGOS PARA AGRICULTURA VERTICAL...\n",
      "  - temperatura_c: 11.4% fuera de rango óptimo (18-28)\n",
      "  - humedad_rel_pct: 4.8% fuera de rango óptimo (40-85)\n"
     ]
    }
   ],
   "execution_count": 32
  },
  {
   "metadata": {},
   "cell_type": "markdown",
   "source": "6. TRANSFORMACIONES DE DATOS",
   "id": "d01f48deb5d27d0d"
  },
  {
   "metadata": {
    "ExecuteTime": {
     "end_time": "2025-05-26T00:21:59.151247Z",
     "start_time": "2025-05-26T00:21:59.105184Z"
    }
   },
   "cell_type": "code",
   "source": [
    "# ============================================================================\n",
    "# 6. TRANSFORMACIONES DE DATOS\n",
    "# ============================================================================\n",
    "\n",
    "print(\"\\n6. APLICANDO TRANSFORMACIONES DE DATOS...\")\n",
    "\n",
    "def apply_transformations(df):\n",
    "    \"\"\"Aplicar transformaciones necesarias\"\"\"\n",
    "    df_transformed = df.copy()\n",
    "\n",
    "    # Convertir timestamp si existe\n",
    "    if 'timestamp' in df_transformed.columns:\n",
    "        df_transformed['timestamp'] = pd.to_datetime(df_transformed['timestamp'])\n",
    "        print(\"  - Timestamp convertido a datetime\")\n",
    "\n",
    "    # Crear variables temporales si no existen\n",
    "    if 'timestamp' in df_transformed.columns:\n",
    "        if 'hora_dia' not in df_transformed.columns:\n",
    "            df_transformed['hora_dia'] = df_transformed['timestamp'].dt.hour\n",
    "        if 'dia_semana' not in df_transformed.columns:\n",
    "            df_transformed['dia_semana'] = df_transformed['timestamp'].dt.dayofweek\n",
    "        if 'mes' not in df_transformed.columns:\n",
    "            df_transformed['mes'] = df_transformed['timestamp'].dt.month\n",
    "        print(\"  - Variables temporales extraídas\")\n",
    "\n",
    "    # Asegurar tipos de datos correctos\n",
    "    numeric_columns = ['temperatura_c', 'humedad_rel_pct', 'co2_ppm', 'par_umol_m2_s',\n",
    "                      'pm2_5_ugm3', 'vocs_mgm3', 'aqi_indice', 'vpd_kpa',\n",
    "                      'eficiencia_fotosintetica_pct', 'fotoluminiscencia_intensidad']\n",
    "\n",
    "    for col in numeric_columns:\n",
    "        if col in df_transformed.columns:\n",
    "            df_transformed[col] = pd.to_numeric(df_transformed[col], errors='coerce')\n",
    "\n",
    "    # Tipos enteros para variables categóricas ordinales\n",
    "    ordinal_columns = ['hora_dia', 'dia_semana', 'mes']\n",
    "    for col in ordinal_columns:\n",
    "        if col in df_transformed.columns:\n",
    "            df_transformed[col] = df_transformed[col].astype(int)\n",
    "\n",
    "    print(\"  - Tipos de datos corregidos\")\n",
    "\n",
    "    return df_transformed\n",
    "\n",
    "df = apply_transformations(df)"
   ],
   "id": "db19aae0c0e99ba9",
   "outputs": [
    {
     "name": "stdout",
     "output_type": "stream",
     "text": [
      "\n",
      "6. APLICANDO TRANSFORMACIONES DE DATOS...\n",
      "  - Timestamp convertido a datetime\n",
      "  - Variables temporales extraídas\n",
      "  - Tipos de datos corregidos\n"
     ]
    }
   ],
   "execution_count": 33
  }
 ],
 "metadata": {
  "kernelspec": {
   "display_name": "Python 3",
   "language": "python",
   "name": "python3"
  },
  "language_info": {
   "codemirror_mode": {
    "name": "ipython",
    "version": 2
   },
   "file_extension": ".py",
   "mimetype": "text/x-python",
   "name": "python",
   "nbconvert_exporter": "python",
   "pygments_lexer": "ipython2",
   "version": "2.7.6"
  }
 },
 "nbformat": 4,
 "nbformat_minor": 5
}
