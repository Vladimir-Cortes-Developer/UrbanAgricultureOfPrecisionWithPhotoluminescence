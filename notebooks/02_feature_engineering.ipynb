{
 "cells": [
  {
   "cell_type": "code",
   "id": "initial_id",
   "metadata": {
    "collapsed": true
   },
   "source": [
    "# ============================================================================\n",
    "# 02_FEATURE_ENGINEERING.IPYNB\n",
    "# Ingeniería de Características para Agricultura Vertical\n",
    "# ============================================================================\n",
    "\n",
    "import pandas as pd\n",
    "import numpy as np\n",
    "import matplotlib.pyplot as plt\n",
    "import seaborn as sns\n",
    "from sklearn.preprocessing import StandardScaler, PolynomialFeatures\n",
    "from sklearn.feature_selection import SelectKBest, f_regression, mutual_info_regression\n",
    "from sklearn.decomposition import PCA\n",
    "from sklearn.ensemble import RandomForestRegressor\n",
    "from scipy import stats\n",
    "import warnings\n",
    "warnings.filterwarnings('ignore')\n",
    "\n",
    "# Configuración de visualización\n",
    "plt.style.use('default')\n",
    "sns.set_palette(\"husl\")\n",
    "\n",
    "print(\"=\"*60)\n",
    "print(\"INGENIERIA DE CARACTERISTICAS - AGRICULTURA VERTICAL\")\n",
    "print(\"=\"*60)"
   ],
   "outputs": [],
   "execution_count": null
  },
  {
   "metadata": {},
   "cell_type": "markdown",
   "source": "1. CARGA DE DATOS PROCESADOS",
   "id": "4a0f035c2f563de7"
  },
  {
   "metadata": {},
   "cell_type": "code",
   "source": [
    "# ============================================================================\n",
    "# 1. CARGA DE DATOS PROCESADOS\n",
    "# ============================================================================\n",
    "\n",
    "print(\"\\n1. CARGANDO DATOS PROCESADOS...\")\n",
    "\n",
    "# Cargar datos procesados\n",
    "df = pd.read_csv('../data/processed/dataset_processed.csv')\n",
    "train_data = pd.read_csv('../data/processed/train_data.csv')\n",
    "val_data = pd.read_csv('../data/processed/validation_data.csv')\n",
    "test_data = pd.read_csv('../data/processed/test_data.csv')\n",
    "\n",
    "# Cargar metadata\n",
    "import json\n",
    "with open('../data/processed/preprocessing_metadata.json', 'r') as f:\n",
    "    metadata = json.load(f)\n",
    "\n",
    "print(f\"Dataset completo: {df.shape}\")\n",
    "print(f\"Entrenamiento: {train_data.shape}\")\n",
    "print(f\"Validacion: {val_data.shape}\")\n",
    "print(f\"Test: {test_data.shape}\")\n",
    "\n",
    "# Features base identificadas\n",
    "base_features = metadata['feature_columns_eficiencia']\n",
    "print(f\"\\nFeatures base: {len(base_features)}\")\n",
    "print(base_features)"
   ],
   "id": "681d142971df3ae8",
   "outputs": [],
   "execution_count": null
  }
 ],
 "metadata": {
  "kernelspec": {
   "display_name": "Python 3",
   "language": "python",
   "name": "python3"
  },
  "language_info": {
   "codemirror_mode": {
    "name": "ipython",
    "version": 2
   },
   "file_extension": ".py",
   "mimetype": "text/x-python",
   "name": "python",
   "nbconvert_exporter": "python",
   "pygments_lexer": "ipython2",
   "version": "2.7.6"
  }
 },
 "nbformat": 4,
 "nbformat_minor": 5
}
