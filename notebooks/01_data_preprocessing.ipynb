{
 "cells": [
  {
   "cell_type": "code",
   "id": "initial_id",
   "metadata": {
    "collapsed": true
   },
   "source": [
    "import pandas as pd\n",
    "import numpy as np\n",
    "import matplotlib.pyplot as plt\n",
    "import seaborn as sns\n",
    "from sklearn.preprocessing import StandardScaler, RobustScaler, MinMaxScaler\n",
    "from sklearn.model_selection import train_test_split\n",
    "from scipy import stats\n",
    "import warnings\n",
    "warnings.filterwarnings('ignore')"
   ],
   "outputs": [],
   "execution_count": null
  },
  {
   "metadata": {},
   "cell_type": "code",
   "source": [
    "# Configuración de visualización\n",
    "plt.style.use('default')\n",
    "sns.set_palette(\"husl\")\n",
    "\n",
    "print(\"=\"*60)\n",
    "print(\"PREPROCESAMIENTO DE DATOS - AGRICULTURA VERTICAL\")\n",
    "print(\"=\"*60)"
   ],
   "id": "68dd2b8e6b5e982c",
   "outputs": [],
   "execution_count": null
  },
  {
   "metadata": {},
   "cell_type": "markdown",
   "source": "1. CARGA DE DATOS",
   "id": "d9653b4d6a7d3ce5"
  },
  {
   "metadata": {},
   "cell_type": "code",
   "source": [
    "print(\"\\n1. CARGANDO DATOS...\")\n",
    "df = pd.read_csv('../data/raw/agricultura_vertical_dataset.csv')\n",
    "\n",
    "print(f\"Shape original: {df.shape}\")\n",
    "print(f\"Columnas: {list(df.columns)}\")\n",
    "\n",
    "# Copia para comparaciones\n",
    "df_original = df.copy()"
   ],
   "id": "67cbec70f633ec58",
   "outputs": [],
   "execution_count": null
  },
  {
   "metadata": {},
   "cell_type": "markdown",
   "source": "2. ANÁLISIS DE CALIDAD DE DATOS",
   "id": "9a55d76543e7ee02"
  },
  {
   "metadata": {},
   "cell_type": "code",
   "source": [
    "print(\"\\n2. ANALISIS DE CALIDAD DE DATOS...\")\n",
    "\n",
    "def analyze_data_quality(df):\n",
    "    \"\"\"Análisis completo de calidad de datos\"\"\"\n",
    "    quality_report = pd.DataFrame({\n",
    "        'Column': df.columns,\n",
    "        'Dtype': df.dtypes,\n",
    "        'Non_Null_Count': df.count(),\n",
    "        'Null_Count': df.isnull().sum(),\n",
    "        'Null_Percentage': (df.isnull().sum() / len(df)) * 100,\n",
    "        'Unique_Count': df.nunique(),\n",
    "        'Duplicate_Rows': len(df) - len(df.drop_duplicates())\n",
    "    })\n",
    "\n",
    "    return quality_report\n",
    "\n",
    "quality_report = analyze_data_quality(df)\n",
    "print(\"\\nREPORTE DE CALIDAD:\")\n",
    "print(quality_report)\n",
    "\n",
    "# Verificar duplicados\n",
    "duplicates = df.duplicated().sum()\n",
    "print(f\"\\nFilas duplicadas: {duplicates}\")\n",
    "\n",
    "if duplicates > 0:\n",
    "    print(\"Eliminando duplicados...\")\n",
    "    df = df.drop_duplicates().reset_index(drop=True)\n",
    "    print(f\"Shape después de eliminar duplicados: {df.shape}\")\n"
   ],
   "id": "83d5241acb8e13b1",
   "outputs": [],
   "execution_count": null
  },
  {
   "metadata": {},
   "cell_type": "code",
   "source": "3. MANEJO DE VALORES FALTANTES",
   "id": "ba331d41b667564b",
   "outputs": [],
   "execution_count": null
  },
  {
   "metadata": {},
   "cell_type": "code",
   "outputs": [],
   "execution_count": null,
   "source": [
    "# ============================================================================\n",
    "# 3. MANEJO DE VALORES FALTANTES\n",
    "# ============================================================================\n",
    "\n",
    "print(\"\\n3. MANEJO DE VALORES FALTANTES...\")\n",
    "\n",
    "# Identificar patrones de valores faltantes\n",
    "missing_data = df.isnull().sum()\n",
    "missing_percentage = (missing_data / len(df)) * 100\n",
    "\n",
    "missing_df = pd.DataFrame({\n",
    "    'Missing_Count': missing_data,\n",
    "    'Missing_Percentage': missing_percentage\n",
    "}).sort_values('Missing_Percentage', ascending=False)\n",
    "\n",
    "print(\"\\nVALORES FALTANTES POR COLUMNA:\")\n",
    "print(missing_df[missing_df['Missing_Count'] > 0])\n",
    "\n",
    "# Estrategias de imputación\n",
    "def handle_missing_values(df):\n",
    "    \"\"\"Manejo inteligente de valores faltantes\"\"\"\n",
    "    df_processed = df.copy()\n",
    "\n",
    "    # Para variables numéricas - usar mediana (más robusta a outliers)\n",
    "    numeric_cols = df_processed.select_dtypes(include=[np.number]).columns\n",
    "\n",
    "    for col in numeric_cols:\n",
    "        if df_processed[col].isnull().sum() > 0:\n",
    "            median_value = df_processed[col].median()\n",
    "            df_processed[col].fillna(median_value, inplace=True)\n",
    "            print(f\"  - {col}: {df[col].isnull().sum()} valores imputados con mediana {median_value:.2f}\")\n",
    "\n",
    "    # Para variables categóricas - usar moda\n",
    "    categorical_cols = df_processed.select_dtypes(include=['object']).columns\n",
    "\n",
    "    for col in categorical_cols:\n",
    "        if df_processed[col].isnull().sum() > 0:\n",
    "            mode_value = df_processed[col].mode()[0]\n",
    "            df_processed[col].fillna(mode_value, inplace=True)\n",
    "            print(f\"  - {col}: {df[col].isnull().sum()} valores imputados con moda '{mode_value}'\")\n",
    "\n",
    "    return df_processed\n",
    "\n",
    "# Aplicar manejo de valores faltantes\n",
    "if missing_data.sum() > 0:\n",
    "    df = handle_missing_values(df)\n",
    "else:\n",
    "    print(\"No se encontraron valores faltantes.\")\n"
   ],
   "id": "e0c38eb26b843593"
  }
 ],
 "metadata": {
  "kernelspec": {
   "display_name": "Python 3",
   "language": "python",
   "name": "python3"
  },
  "language_info": {
   "codemirror_mode": {
    "name": "ipython",
    "version": 2
   },
   "file_extension": ".py",
   "mimetype": "text/x-python",
   "name": "python",
   "nbconvert_exporter": "python",
   "pygments_lexer": "ipython2",
   "version": "2.7.6"
  }
 },
 "nbformat": 4,
 "nbformat_minor": 5
}
