{
 "cells": [
  {
   "cell_type": "code",
   "id": "initial_id",
   "metadata": {
    "collapsed": true
   },
   "source": [
    "import pandas as pd\n",
    "import numpy as np\n",
    "import matplotlib.pyplot as plt\n",
    "import seaborn as sns\n",
    "from sklearn.preprocessing import StandardScaler, RobustScaler, MinMaxScaler\n",
    "from sklearn.model_selection import train_test_split\n",
    "from scipy import stats\n",
    "import warnings\n",
    "warnings.filterwarnings('ignore')"
   ],
   "outputs": [],
   "execution_count": null
  },
  {
   "metadata": {},
   "cell_type": "code",
   "source": [
    "# Configuración de visualización\n",
    "plt.style.use('default')\n",
    "sns.set_palette(\"husl\")\n",
    "\n",
    "print(\"=\"*60)\n",
    "print(\"PREPROCESAMIENTO DE DATOS - AGRICULTURA VERTICAL\")\n",
    "print(\"=\"*60)"
   ],
   "id": "68dd2b8e6b5e982c",
   "outputs": [],
   "execution_count": null
  },
  {
   "metadata": {},
   "cell_type": "markdown",
   "source": "1. CARGA DE DATOS",
   "id": "d9653b4d6a7d3ce5"
  },
  {
   "metadata": {},
   "cell_type": "code",
   "source": [
    "print(\"\\n1. CARGANDO DATOS...\")\n",
    "df = pd.read_csv('../data/raw/agricultura_vertical_dataset.csv')\n",
    "\n",
    "print(f\"Shape original: {df.shape}\")\n",
    "print(f\"Columnas: {list(df.columns)}\")\n",
    "\n",
    "# Copia para comparaciones\n",
    "df_original = df.copy()"
   ],
   "id": "67cbec70f633ec58",
   "outputs": [],
   "execution_count": null
  },
  {
   "metadata": {},
   "cell_type": "markdown",
   "source": "2. ANÁLISIS DE CALIDAD DE DATOS",
   "id": "9a55d76543e7ee02"
  },
  {
   "metadata": {},
   "cell_type": "code",
   "source": [
    "print(\"\\n2. ANALISIS DE CALIDAD DE DATOS...\")\n",
    "\n",
    "def analyze_data_quality(df):\n",
    "    \"\"\"Análisis completo de calidad de datos\"\"\"\n",
    "    quality_report = pd.DataFrame({\n",
    "        'Column': df.columns,\n",
    "        'Dtype': df.dtypes,\n",
    "        'Non_Null_Count': df.count(),\n",
    "        'Null_Count': df.isnull().sum(),\n",
    "        'Null_Percentage': (df.isnull().sum() / len(df)) * 100,\n",
    "        'Unique_Count': df.nunique(),\n",
    "        'Duplicate_Rows': len(df) - len(df.drop_duplicates())\n",
    "    })\n",
    "\n",
    "    return quality_report\n",
    "\n",
    "quality_report = analyze_data_quality(df)\n",
    "print(\"\\nREPORTE DE CALIDAD:\")\n",
    "print(quality_report)\n",
    "\n",
    "# Verificar duplicados\n",
    "duplicates = df.duplicated().sum()\n",
    "print(f\"\\nFilas duplicadas: {duplicates}\")\n",
    "\n",
    "if duplicates > 0:\n",
    "    print(\"Eliminando duplicados...\")\n",
    "    df = df.drop_duplicates().reset_index(drop=True)\n",
    "    print(f\"Shape después de eliminar duplicados: {df.shape}\")\n"
   ],
   "id": "83d5241acb8e13b1",
   "outputs": [],
   "execution_count": null
  },
  {
   "metadata": {},
   "cell_type": "code",
   "source": "",
   "id": "ba331d41b667564b",
   "outputs": [],
   "execution_count": null
  }
 ],
 "metadata": {
  "kernelspec": {
   "display_name": "Python 3",
   "language": "python",
   "name": "python3"
  },
  "language_info": {
   "codemirror_mode": {
    "name": "ipython",
    "version": 2
   },
   "file_extension": ".py",
   "mimetype": "text/x-python",
   "name": "python",
   "nbconvert_exporter": "python",
   "pygments_lexer": "ipython2",
   "version": "2.7.6"
  }
 },
 "nbformat": 4,
 "nbformat_minor": 5
}
